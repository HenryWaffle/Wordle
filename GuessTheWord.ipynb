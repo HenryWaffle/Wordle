{
 "cells": [
  {
   "cell_type": "code",
   "execution_count": 1,
   "metadata": {},
   "outputs": [
    {
     "name": "stdout",
     "output_type": "stream",
     "text": [
      "WELCOME TO WORDLE\n",
      "YOU WILL HAVE 6 TRIES TO GUESS THE WORD AND THE WORD WILL ALWAYS BE 5 LETTERS\n",
      "HERE ARE THE RULES:\n",
      "IF THE LETTER IS IN THE WORD AND IS IN THE CORRECT POSITION\n",
      "THE LETTER WILL APPEAR IN CAPITAL LETTERS.\n",
      "IF THE LETTER IS IN THE WORD\n",
      "BUT IS IN THE WRONG POSITION\n",
      "THE LETTER WILL APPEAR IN LOWERCASE.\n",
      "IF THE LETTER IS NOT IN THE WORD\n",
      "THE LETTER WILL NOT APPEAR.\n",
      "round: 1\n",
      "_ _ E e _ \n",
      "round: 2\n",
      "that is not a 5 letter word\n",
      "round: 3\n",
      "_ _ E _ _ \n",
      "round: 4\n",
      "_ _ E e _ \n",
      "round: 5\n",
      "_ _ E _ _ \n",
      "round: 6\n",
      "that is not a 5 letter word\n",
      "The answer was EVENT\n",
      "YOU LOSE\n"
     ]
    }
   ],
   "source": [
    "print(\"WELCOME TO WORDLE\")\n",
    "print(\"YOU WILL HAVE 6 TRIES TO GUESS THE WORD AND THE WORD WILL ALWAYS BE 5 LETTERS\")\n",
    "print(\"HERE ARE THE RULES:\")\n",
    "print(\"IF THE LETTER IS IN THE WORD AND IS IN THE CORRECT POSITION\\nTHE LETTER WILL APPEAR IN CAPITAL LETTERS.\\nIF THE LETTER IS IN THE WORD\\nBUT IS IN THE WRONG POSITION\\nTHE LETTER WILL APPEAR IN LOWERCASE.\\nIF THE LETTER IS NOT IN THE WORD\\nTHE LETTER WILL NOT APPEAR.\")\n",
    "\n",
    "import random\n",
    "LIST = ['ABUSE', 'ADULT', 'AGENT', 'ANGER', 'APPLE', 'AWARD', 'BASIS', 'BEACH', 'BIRTH', 'BLOCK', 'BLOOD', 'BOARD', 'BRAIN', 'BREAD', 'BREAK', 'BROWN', 'BUYER', 'CAUSE', 'CHAIN', 'CHAIR', 'CHEST', 'CHIEF', 'CHILD', 'CHINA', 'CLAIM', 'CLASS', 'CLOCK', 'COACH', 'COAST', 'COURT', 'COVER', 'CREAM', 'CRIME', 'CROSS', 'CROWD', 'CROWN', 'CYCLE', 'DANCE', 'DEATH', 'DEPTH', 'DOUBT', 'DRAFT', 'DRAMA', 'DREAM', 'DRESS', 'DRINK', 'DRIVE', 'EARTH', 'ENEMY', 'ENTRY', 'ERROR', 'EVENT', 'FAITH', 'FAULT', 'FIELD', 'FIGHT', 'FINAL', 'FLOOR', 'FOCUS', 'FORCE', 'FRAME', 'FRONT', 'FRUIT', 'GLASS', 'GRANT', 'GRASS', 'GREEN', 'GROUP', 'GUIDE', 'HEART',  'HORSE', 'HOTEL', 'HOUSE', 'IMAGE', 'INDEX', 'INPUT', 'ISSUE', 'JAPAN', 'JONES', 'JUDGE', 'KNIFE',  'LAYER', 'LEVEL','LIGHT', 'LIMIT', 'LUNCH', 'MAJOR', 'MARCH', 'MATCH', 'METAL', 'MODEL', 'MONEY', 'MONTH', 'MOTOR', 'MOUTH', 'MUSIC', 'NIGHT', 'NOISE', 'NORTH', 'NOVEL', 'NURSE', 'OFFER', 'ORDER', 'OTHER', 'OWNER', 'PANEL', 'PAPER', 'PARTY', 'PEACE', 'PETER', 'PHASE', 'PHONE', 'PIECE', 'PILOT', 'PITCH', 'PLACE', 'PLANE', 'PLANT', 'PLATE', 'POINT', 'POUND', 'POWER', 'PRESS', 'PRICE', 'PRIDE', 'PRIZE', 'PROOF', 'QUEEN', 'RADIO', 'RANGE', 'RATIO', 'REPLY', 'RIGHT', 'RIVER', 'ROUND', 'ROUTE', 'RUGBY', 'SCALE', 'SCENE', 'SCOPE', 'SCORE', 'SENSE', 'SHAPE', 'SHARE', 'SHEEP', 'SHEET', 'SHIFT', 'SHIRT', 'SHOCK', 'SIGHT',  'SKILL', 'SLEEP', 'SMILE', 'SMITH', 'SMOKE', 'SOUND', 'SOUTH', 'SPACE', 'SPEED', 'SPITE', 'SPORT', 'SQUAD', 'STAFF', 'STAGE', 'START', 'STATE', 'STEAM', 'STEEL', 'STOCK', 'STONE', 'STORE', 'STUDY', 'STUFF', 'STYLE', 'SUGAR', 'TABLE', 'TASTE',  'THEME', 'THING', 'TITLE', 'TOTAL', 'TOUCH', 'TOWER', 'TRACK', 'TRADE', 'TRAIN', 'TREND', 'TRIAL', 'TRUST', 'TRUTH', 'UNCLE', 'UNION', 'UNITY', 'VALUE', 'VIDEO', 'VISIT', 'VOICE', 'WASTE', 'WATCH', 'WATER', 'WHILE', 'WHITE', 'WHOLE', 'WOMAN', 'WORLD', 'YOUTH']\n",
    "ANSWER = random.choices(LIST)\n",
    "ANSWER = ANSWER[0]\n",
    "ROUNDS = 6\n",
    "\n",
    "for round in range(ROUNDS):\n",
    "    print(\"round:\",round+1)\n",
    "    guess = str(input(\"Enter your guess: \"))\n",
    "    result = \"\"\n",
    "    if len(guess) == len(ANSWER):\n",
    "        if guess.upper() == ANSWER.upper():\n",
    "            print(ANSWER)\n",
    "            print(\"YOU WIN\")\n",
    "            break\n",
    "\n",
    "        for index in range(len(guess)):\n",
    "\n",
    "            if guess[index].upper() == ANSWER[index]:\n",
    "                result += guess[index].upper() + ' '\n",
    "\n",
    "            character_set = set(ANSWER)\n",
    "\n",
    "            if guess[index].upper() in character_set and guess[index].upper() != ANSWER[index]:\n",
    "                result += guess[index].lower() + ' '\n",
    "            \n",
    "            if guess[index].upper() not in character_set:\n",
    "                result += '_' + ' '\n",
    "\n",
    "        print(result)\n",
    "\n",
    "    else:\n",
    "        print(\"that is not a\",len(ANSWER),\"letter word\")\n",
    "else:\n",
    "    print(\"The answer was\",ANSWER)\n",
    "    print(\"YOU LOSE\")"
   ]
  }
 ],
 "metadata": {
  "interpreter": {
   "hash": "5b49a88780a84d842920990ca24535cc42c3ec114f9d4421fc2bf4cbce05b5fc"
  },
  "kernelspec": {
   "display_name": "Python 3.10.0 64-bit",
   "language": "python",
   "name": "python3"
  },
  "language_info": {
   "codemirror_mode": {
    "name": "ipython",
    "version": 3
   },
   "file_extension": ".py",
   "mimetype": "text/x-python",
   "name": "python",
   "nbconvert_exporter": "python",
   "pygments_lexer": "ipython3",
   "version": "3.10.0"
  },
  "orig_nbformat": 4
 },
 "nbformat": 4,
 "nbformat_minor": 2
}
